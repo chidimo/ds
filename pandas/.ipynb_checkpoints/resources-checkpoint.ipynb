{
 "cells": [
  {
   "cell_type": "markdown",
   "metadata": {},
   "source": [
    "[`pandas`](http://pandas.pydata.org/)\n",
    "\n",
    "[`visual guide to pandas`](https://www.youtube.com/watch?v=9d5-Ti6onew)\n",
    "\n",
    "https://www.youtube.com/watch?v=5JnMutdy6Fw\n",
    "\n",
    "https://www.youtube.com/watch?v=rIofV14c0tc\n",
    "\n",
    "https://www.youtube.com/watch?v=GkU-VzL-3Vk\n",
    "\n",
    "https://www.youtube.com/watch?v=suX147xwWg4\n",
    "\n",
    "https://youtu.be/k7X7sZzSXYs\n",
    "\n",
    "http://nosebotpress.blogspot.ae/2017/01/scared-straight-educational-ponderables.html#more\n",
    "\n",
    "http://www.lepantoinstitute.org/\n",
    "\n",
    "http://discoverthenetworks.org/\n",
    "\n",
    "https://www.quora.com/What-is-the-best-freelance-website-for-beginners-and-why\n",
    "\n",
    "https://www.youtube.com/watch?v=Sn-beSK3rv4\n",
    "\n",
    "https://www.youtube.com/watch?v=29ji7iEwq_I\n",
    "\n",
    "http://dl-vip.pcfaster.baidu.co.th/Baidu_Cleaner_Setup_Mini_GL58.exe\n",
    "\n",
    "http://www.portablefreeware.com/?id=2392"
   ]
  },
  {
   "cell_type": "markdown",
   "metadata": {},
   "source": [
    "**axis=0:** *pick operands from* **rows**; keep column constant\n",
    "\n",
    "**axis=1:** *pick operands from* **columns**; keep row constant"
   ]
  },
  {
   "cell_type": "code",
   "execution_count": 1,
   "metadata": {
    "collapsed": true
   },
   "outputs": [],
   "source": [
    "import pandas as pd\n",
    "import numpy as np\n",
    "import statsmodels.formula.api as sm"
   ]
  },
  {
   "cell_type": "code",
   "execution_count": null,
   "metadata": {
    "collapsed": true
   },
   "outputs": [],
   "source": []
  }
 ],
 "metadata": {
  "kernelspec": {
   "display_name": "Python 3",
   "language": "python",
   "name": "python3"
  },
  "language_info": {
   "codemirror_mode": {
    "name": "ipython",
    "version": 3
   },
   "file_extension": ".py",
   "mimetype": "text/x-python",
   "name": "python",
   "nbconvert_exporter": "python",
   "pygments_lexer": "ipython3",
   "version": "3.6.1"
  }
 },
 "nbformat": 4,
 "nbformat_minor": 2
}
