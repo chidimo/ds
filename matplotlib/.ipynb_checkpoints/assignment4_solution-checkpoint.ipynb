{
 "cells": [
  {
   "cell_type": "code",
   "execution_count": null,
   "metadata": {
    "collapsed": true
   },
   "outputs": [],
   "source": [
    "\"\"\"Docstring\"\"\"\n",
    "\n",
    "import pandas as pd\n",
    "import matplotlib.pyplot as plt\n",
    "from matplotlib.dates import MonthLocator, DateFormatter, YearLocator\n",
    "\n",
    "def gdp_inflation_data(file_name, sheet):\n",
    "    \"\"\"Read gdp and inflation data\"\"\"\n",
    "    data = pd.read_excel('assignment_data/{}.xlsx'.format(file_name), sheetname=sheet)\n",
    "    data.set_index('year', inplace=True)\n",
    "    if 'inflation_rate' in list(data):\n",
    "        data.inflation_rate = data.inflation_rate*100\n",
    "    data = data.iloc[::-1] # place dates in ascending order\n",
    "    data.index = pd.to_datetime(data.index, format='%Y')\n",
    "    return data\n",
    "\n",
    "def plot_data():\n",
    "    \"\"\"Plot the figure\"\"\"\n",
    "\n",
    "    ng_gdp = gdp_inflation_data('data_gdp', 'NG')\n",
    "    ng_inflation = gdp_inflation_data('data_inflation', 'NG')\n",
    "    uae_gdp = gdp_inflation_data('data_gdp', 'UAE')\n",
    "    uae_inflation = gdp_inflation_data('data_inflation', 'UAE')\n",
    "\n",
    "    fig = plt.figure(facecolor='lightblue', figsize=(12, 8))\n",
    "    ax_gdp = plt.subplot(2, 1, 1)\n",
    "    ax_inf = plt.subplot(2, 1, 2, sharex=ax_gdp)\n",
    "    years = YearLocator()\n",
    "    yrfmt = DateFormatter(\"%Y\")\n",
    "\n",
    "    ax_inf.plot_date(ng_inflation.index, ng_inflation.inflation_rate, 'g-o', label='Nigeria')\n",
    "    ax_inf.plot_date(uae_inflation.index, uae_inflation.inflation_rate, 'r-o', label='UAE')\n",
    "    ax_gdp.plot_date(ng_gdp.index, ng_gdp.GDP_bn_dol, 'g-o', label='Nigeria')\n",
    "    ax_gdp.plot_date(uae_gdp.index, uae_gdp.GDP_bn_dol, 'r-o', label='UAE')\n",
    "\n",
    "    ax_gdp.xaxis.set_major_locator(years)\n",
    "    ax_gdp.xaxis.set_major_formatter(yrfmt)\n",
    "    ax_gdp.set(xlabel=\"Year\", ylabel=\"GDP (billions of $)\")\n",
    "    ax_gdp.autoscale_view()\n",
    "    ax_gdp.legend(loc=\"upper left\")\n",
    "\n",
    "    ax_inf.xaxis.set_major_locator(years)\n",
    "    ax_inf.xaxis.set_major_formatter(yrfmt)\n",
    "    ax_inf.set(xlabel=\"Year\", ylabel=\"Inflation rate (in %)\")\n",
    "    ax_inf.autoscale_view()\n",
    "    ax_inf.legend(loc=\"lower left\")\n",
    "    title = \"Variation of Inflation rate and GDP of Nigeria and UAE between 2005 and 2016\"\n",
    "    fig.suptitle(title, fontsize=16)\n",
    "\n",
    "    fig.autofmt_xdate()\n",
    "\n",
    "    plt.savefig(\"comparing_gdp_inflation.png\", facecolor=fig.get_facecolor(), dpi=100)\n",
    "    plt.savefig(\"comparing_gdp_inflation.pdf\", facecolor=fig.get_facecolor(), dpi=100)\n",
    "    plt.show()"
   ]
  },
  {
   "cell_type": "code",
   "execution_count": null,
   "metadata": {},
   "outputs": [],
   "source": [
    "plot_data()"
   ]
  }
 ],
 "metadata": {
  "kernelspec": {
   "display_name": "Python 3",
   "language": "python",
   "name": "python3"
  },
  "language_info": {
   "codemirror_mode": {
    "name": "ipython",
    "version": 3
   },
   "file_extension": ".py",
   "mimetype": "text/x-python",
   "name": "python",
   "nbconvert_exporter": "python",
   "pygments_lexer": "ipython3",
   "version": "3.6.1"
  }
 },
 "nbformat": 4,
 "nbformat_minor": 2
}
