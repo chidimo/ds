{
 "cells": [
  {
   "cell_type": "markdown",
   "metadata": {},
   "source": [
    "### Resources\n",
    "\n",
    "[`mapping`](http://matplotlib.org/basemap/)\n",
    "\n",
    "[`beginner`](http://matplotlib.org/users/beginner.html)\n",
    "\n",
    "[`path tutorial`](http://matplotlib.org/users/path_tutorial.html)\n",
    "\n",
    "[`text tutorial`](http://matplotlib.sourceforge.net/users/index_text.html)\n",
    "\n",
    "[`image tutorial`](http://matplotlib.org/users/image_tutorial.html)\n",
    "\n",
    "[`pyplot tutorial`](http://matplotlib.sourceforge.net/users/pyplot_tutorial.html)\n",
    "\n",
    "[`artist tutorial`](http://matplotlib.org/users/artists.html)\n",
    "\n",
    "[`transforms tutorial`](http://matplotlib.org/users/transforms_tutorial.html)\n",
    "\n",
    "[`animation tutorial`](http://matplotlib.org/api/animation_api.html)\n",
    "\n",
    "[`external learning resources`](http://matplotlib.org/resources/index.html)\n",
    "\n",
    "[`jake's animation tutorial`](http://jakevdp.github.io/blog/2012/08/18/matplotlib-animation-tutorial/)s\n",
    "\n",
    "[`schrodinger animation`](http://jakevdp.github.io/blog/2012/09/05/quantum-python/)\n",
    "\n",
    "[`data science in academia`](http://jakevdp.github.io/blog/2014/08/22/hacking-academia/)\n",
    "\n",
    "[`rougier mpl tutorial`](http://www.labri.fr/perso/nrougier/teaching/matplotlib/)"
   ]
  },
  {
   "cell_type": "markdown",
   "metadata": {},
   "source": [
    "## Notes\n",
    "[`economic indicators`](https://www.discoveroptions.com/mixed/content/education/articles/bigthreeeconomicindicators.html)\n",
    "\n",
    "[`Economic indicator wikipedia`](https://en.wikipedia.org/wiki/Economic_indicator)"
   ]
  },
  {
   "cell_type": "markdown",
   "metadata": {},
   "source": [
    "### Assignment 4\n",
    "\n",
    "**GDP** is the dollar value of all goods and services produced by a given country during a certain period. It is measured by either adding all of the income earned in an economy, or by all the spending in an economy. Both measures should be roughly equal.\n",
    "\n",
    "**Inflation** "
   ]
  },
  {
   "cell_type": "markdown",
   "metadata": {},
   "source": [
    "[`inflation uae`](http://www.gdpinflation.com/2013/09/inflation-rate-in-uaeunited-arab.html)\n",
    "\n",
    "[`inflation nigeria`](http://www.gdpinflation.com/2013/05/inflation-rate-in-nigeria-from-2005-to.html)\n",
    "\n",
    "[`inflation us`](http://www.gdpinflation.com/2016/03/us-inflation-cpi.html)\n",
    "\n",
    "[`gdp uae`](http://www.gdpinflation.com/2014/07/uae-united-arab-emirates-annual-gdp-and.html)\n",
    "\n",
    "[`gdp nigeria`](http://www.gdpinflation.com/2014/07/nigeria-annual-gdp-and-gdp-growth-rate.html)\n",
    "\n",
    "[`gdp us`](http://www.gdpinflation.com/2016/03/us-gdp.html)\n",
    "\n",
    "[`hdi`](http://hdr.undp.org/en/data#)\n",
    "\n",
    "[`debt_gdp`](https://knoema.com/IMFHPDD2017/historical-public-debt-hpdd)\n",
    "\n",
    "[`climate data`](http://sdwebx.worldbank.org/climateportal/index.cfm?page=downscaled_data_download&menu=historical)"
   ]
  }
 ],
 "metadata": {
  "kernelspec": {
   "display_name": "Python 3",
   "language": "python",
   "name": "python3"
  },
  "language_info": {
   "codemirror_mode": {
    "name": "ipython",
    "version": 3
   },
   "file_extension": ".py",
   "mimetype": "text/x-python",
   "name": "python",
   "nbconvert_exporter": "python",
   "pygments_lexer": "ipython3",
   "version": "3.6.1"
  }
 },
 "nbformat": 4,
 "nbformat_minor": 2
}
