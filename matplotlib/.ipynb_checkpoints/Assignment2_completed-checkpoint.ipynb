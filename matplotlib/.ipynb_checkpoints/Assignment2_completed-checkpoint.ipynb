{
 "cells": [
  {
   "cell_type": "markdown",
   "metadata": {},
   "source": [
    "For this assignment, you must:\n",
    "\n",
    "1. Read the documentation and familiarize yourself with the dataset, then write some python code which returns a line graph of the record high and record low temperatures by day of the year over the period 2005-2014. The area between the record high and record low temperatures for each day should be shaded.\n",
    "2. Overlay a scatter of the 2015 data for any points (highs and lows) for which the ten year record (2005-2014) record high or record low was broken in 2015.\n",
    "3. Watch out for leap days (i.e. February 29th), it is reasonable to remove these points from the dataset for the purpose of this visualization.\n",
    "4. Make the visual nice! Leverage principles from the first module in this course when developing your solution. Consider issues such as legends, labels, and chart junk."
   ]
  },
  {
   "cell_type": "markdown",
   "metadata": {},
   "source": [
    "https://stackoverflow.com/questions/28091290/matplotlibs-fill-between-doesnt-work-with-plot-date-any-alternatives"
   ]
  },
  {
   "cell_type": "code",
   "execution_count": null,
   "metadata": {
    "collapsed": false
   },
   "outputs": [],
   "source": [
    "import pandas as pd\n",
    "import numpy as np\n",
    "import matplotlib.pyplot as plt\n",
    "from weather_patterns import read_and_sort, remove_leaps, remove_leap_days, min_max, \\\n",
    "daily_maximum_all, daily_minimum_all, daily_high_over_ten_years, daily_low_over_ten_years, record_breakers\n",
    "\n",
    "df = remove_leaps(read_and_sort())"
   ]
  },
  {
   "cell_type": "code",
   "execution_count": null,
   "metadata": {
    "collapsed": false
   },
   "outputs": [],
   "source": [
    "split_min_max = min_max(df)\n",
    "max_element = split_min_max[0]\n",
    "min_element = split_min_max[1]\n",
    "\n",
    "ten_year_highs = daily_maximum_all(max_element, 2005, 2015)\n",
    "ten_year_lows = daily_minimum_all(min_element, 2005, 2015)\n",
    "\n",
    "\n",
    "\n",
    "\n",
    "high_10_year, dates = daily_high_over_ten_years(ten_year_highs)\n",
    "low_10_year, dates2 = daily_low_over_ten_years(ten_year_lows)\n",
    "\n",
    "high_low_0514 = pd.DataFrame([high_10_year, low_10_year])\n",
    "high_low_0514 = high_low_0514.transpose()\n",
    "high_low_0514.columns=['Maximum', 'Minimum']\n",
    "index = remove_leap_days('2015-1-1', '2015-12-31')\n",
    "high_low_0514.set_index(index, inplace=True)\n",
    "\n",
    "\n",
    "\n",
    "\n",
    "high_15 = daily_maximum_all(max_element, 2015, 2016)\n",
    "low_15 = daily_minimum_all(min_element, 2015, 2016)\n",
    "high_low_15 = high_15.merge(low_15, right_index=True, left_index=True)\n",
    "\n",
    "\n",
    "\n",
    "records = record_breakers(high_low_15, high_low_0514)"
   ]
  },
  {
   "cell_type": "code",
   "execution_count": null,
   "metadata": {
    "collapsed": false
   },
   "outputs": [],
   "source": []
  },
  {
   "cell_type": "code",
   "execution_count": null,
   "metadata": {
    "collapsed": false
   },
   "outputs": [],
   "source": [
    "plt.figure()\n",
    "plt.plot(high_low_0514.index, high_low_0514.Maximum, 'b-')\n",
    "plt.plot(high_low_0514.index, high_low_0514.Minimum, 'g-')\n",
    "plt.fill_between(high_low_0514.index, high_low_0514.Maximum, high_low_0514.Minimum, facecolor='lightblue')\n",
    "ax = plt.gca()"
   ]
  },
  {
   "cell_type": "code",
   "execution_count": null,
   "metadata": {
    "collapsed": true
   },
   "outputs": [],
   "source": []
  },
  {
   "cell_type": "code",
   "execution_count": null,
   "metadata": {
    "collapsed": true
   },
   "outputs": [],
   "source": []
  }
 ],
 "metadata": {
  "kernelspec": {
   "display_name": "Python 3",
   "language": "python",
   "name": "python3"
  },
  "language_info": {
   "codemirror_mode": {
    "name": "ipython",
    "version": 3
   },
   "file_extension": ".py",
   "mimetype": "text/x-python",
   "name": "python",
   "nbconvert_exporter": "python",
   "pygments_lexer": "ipython3",
   "version": "3.6.0"
  }
 },
 "nbformat": 4,
 "nbformat_minor": 1
}
