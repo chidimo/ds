{
 "cells": [
  {
   "cell_type": "markdown",
   "metadata": {},
   "source": [
    "[``]() https://docs.scipy.org/doc/numpy-dev/user/quickstart.html\n",
    "\n",
    "[``]() https://docs.scipy.org/doc/numpy-dev/reference/index.html#reference\n",
    "\n",
    "[``]() http://www.scipy-lectures.org/\n",
    "\n",
    "[``]() http://www.python-course.eu/numpy.php/\n",
    "\n",
    "[``]() https://github.com/scipy-lectures/scipy-lecture-notes\n",
    "\n",
    "[``]() http://mathesaurus.sourceforge.net/\n",
    "\n",
    "[``]() https://docs.scipy.org/doc/scipy/reference/tutorial/index.html\n",
    "\n",
    "[`scipy cookbook`](http://matplotlib.org/api/animation_api.html)"
   ]
  },
  {
   "cell_type": "code",
   "execution_count": null,
   "metadata": {
    "collapsed": true
   },
   "outputs": [],
   "source": []
  }
 ],
 "metadata": {
  "kernelspec": {
   "display_name": "Python 3",
   "language": "python",
   "name": "python3"
  },
  "language_info": {
   "codemirror_mode": {
    "name": "ipython",
    "version": 3
   },
   "file_extension": ".py",
   "mimetype": "text/x-python",
   "name": "python",
   "nbconvert_exporter": "python",
   "pygments_lexer": "ipython3",
   "version": "3.6.1"
  }
 },
 "nbformat": 4,
 "nbformat_minor": 2
}
