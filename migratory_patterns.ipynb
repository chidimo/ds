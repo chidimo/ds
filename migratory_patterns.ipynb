{
 "cells": [
  {
   "cell_type": "markdown",
   "metadata": {},
   "source": []
  },
  {
   "cell_type": "markdown",
   "metadata": {},
   "source": [
    "## Obtaining the data\n",
    "1. <https://ebird.org/data/download>\n",
    "1. <https://migbirdapps.fws.gov>\n",
    "\n",
    "    Access population data\n",
    "    \n",
    "    Waterfowl (Atlantic Flyway Breeding Waterfowl Survey) [Accept terms and submit]    \n",
    "    \n",
    "    Retrieve population data\n",
    "    \n",
    "    Query and download count data\n",
    "    \n",
    "    Select species (mandatory) and any other filter fields (you may want to change the number of rows so as to reduce the number of tables returned), then submit\n",
    "    \n",
    "    Scroll down and click 'Download ASCII file' <https://migbirdapps.fws.gov/downloads/afpch_572018111833.csv> I downloaded everything\n",
    "    \n",
    "In case you get a `403 Unauthorized`, use `requests` and `beautifulsoup` to retrieve the data\n",
    "\n",
    "Click submit on the form and examine the `disp_plot.asp` `header` information using Vivaldi Browser. Form data is shown under `Form Data`. Click on `view URL encoded`. Copy the result and make a `form_data` variable like below\n",
    "\n",
    "``python\n",
    "accept_terms = \"https://migbirdapps.fws.gov/mbdc/databases/afbws/afbws.asp?opt=1\" # to accept terms and conditions\n",
    "post_url = \"https://migbirdapps.fws.gov/mbdc/databases/afbws/disp_plot.asp\"\n",
    "form_data = (\n",
    "\"txtYr: \"\n",
    "\"txtSpecies: ABDU%2CAGWT%2CBWTE%2CCAGO%2CCOME%2CGADW%2CHOME%2CMALL%2CMUSW%2CWODU%2COTHER%2CTOTAL\"\n",
    "\"txtSpeciesName: American+black+duck%2CGreen-winged+teal%2CBlue-winged+teal%2CCanada+goose%2CCommon+merganser%2CGadwall%2CHooded+merganser%2CMallard%2CMute+swan%2CWood+duck%2C+Other+Species%2Cucks\"\n",
    "\"txtFlyway: \"\n",
    "\"txtState: \"\n",
    "\"txtPlots: \"\n",
    "\"db: request%28%22db%22%29\"\n",
    "\"txtCurrPage: 1\"\n",
    "\"LoadPage: query\"\n",
    "\"txtRows: 99\"\n",
    "\"submit1: Submit\"\n",
    ")\n",
    "```"
   ]
  },
  {
   "cell_type": "code",
   "execution_count": null,
   "metadata": {},
   "outputs": [],
   "source": [
    "import requests\n",
    "\n",
    "accept_terms = \"https://migbirdapps.fws.gov/mbdc/databases/afbws/afbws.asp?opt=1\"\n",
    "post_url = \"https://migbirdapps.fws.gov/mbdc/databases/afbws/disp_plot.asp\"\n",
    "\n",
    "form_data = (\n",
    "\"txtYr: \"\n",
    "\"txtSpecies: ABDU%2CAGWT%2CBWTE%2CCAGO%2CCOME%2CGADW%2CHOME%2CMALL%2CMUSW%2CWODU%2COTHER%2CTOTAL\"\n",
    "\"txtSpeciesName: American+black+duck%2CGreen-winged+teal%2CBlue-winged+teal%2CCanada+goose%2CCommon+merganser%2CGadwall%2CHooded+merganser%2CMallard%2CMute+swan%2CWood+duck%2C+Other+Species%2Cucks\"\n",
    "\"txtFlyway: \"\n",
    "\"txtState: \"\n",
    "\"txtPlots: \"\n",
    "\"db: request%28%22db%22%29\"\n",
    "\"txtCurrPage: 1\"\n",
    "\"LoadPage: query\"\n",
    "\"txtRows: 99\"\n",
    "\"submit1: Submit\"\n",
    ")\n",
    "se = requests.Session()\n",
    "se.get(accept_terms)\n",
    "re = se.post(post_url, data=form_data, headers={'Content-Type': 'application/x-www-form-urlencoded'})"
   ]
  },
  {
   "cell_type": "code",
   "execution_count": null,
   "metadata": {},
   "outputs": [],
   "source": [
    "re.text"
   ]
  },
  {
   "cell_type": "code",
   "execution_count": null,
   "metadata": {},
   "outputs": [],
   "source": [
    "url = 'https://github.com/chidimo/ds/blob/master/migratory_patterns.ipynb'\n",
    "r = requests.post('http://nbviewer.jupyter.org/create', data={'gistnorurl' : url})"
   ]
  },
  {
   "cell_type": "code",
   "execution_count": null,
   "metadata": {},
   "outputs": [],
   "source": [
    "def format_nb_url(github_url):\n",
    "    git_url = github_url.split('https://github.com/')[1]\n",
    "    nb_view = 'http://nbviewer.jupyter.org/github/' + git_url\n",
    "    return nb_view\n",
    "\n",
    "notebook_url = 'https://github.com/chidimo/ds/blob/master/migratory_patterns.ipynb'\n",
    "nb_viewer_url = format_nb_url(notebook_url)\n",
    "link = \"<a href='{}' target='_blank'>Open in nbviewer</a>\".format(nb_viewer_url)"
   ]
  },
  {
   "cell_type": "code",
   "execution_count": null,
   "metadata": {},
   "outputs": [],
   "source": [
    "from IPython.core.display import display, HTML\n",
    "\n",
    "def get_github_nbviewer_link(github_url):\n",
    "    git_url = github_url.split('https://github.com/')[1]\n",
    "    nb_viewer_url = 'http://nbviewer.jupyter.org/github/' + git_url\n",
    "    \n",
    "    notebook_name = git_url.split('/')[-1].split('.ipynb')[0]\n",
    "    \n",
    "    link = \"<a style='text-decoration:none' href='{}' target='_blank'>Open {} in nbviewer</a>\".format(nb_viewer_url, notebook_name)\n",
    "    display(HTML(link))\n",
    "    \n",
    "url1 = 'https://github.com/chidimo/line_of_balance/blob/master/README.ipynb'\n",
    "url2 = 'https://github.com/chidimo/ds/blob/master/migratory_patterns.ipynb'\n",
    "\n",
    "nb_viewer_url = get_github_nbviewer_link(url2)\n",
    "nb_viewer_url = get_github_nbviewer_link(url1)"
   ]
  },
  {
   "cell_type": "code",
   "execution_count": null,
   "metadata": {},
   "outputs": [],
   "source": [
    "notebook_url.split('https://')"
   ]
  },
  {
   "cell_type": "code",
   "execution_count": null,
   "metadata": {},
   "outputs": [],
   "source": []
  }
 ],
 "metadata": {
  "kernelspec": {
   "display_name": "ds-UkbacWyt",
   "language": "python",
   "name": "ds-ukbacwyt"
  },
  "language_info": {
   "codemirror_mode": {
    "name": "ipython",
    "version": 3
   },
   "file_extension": ".py",
   "mimetype": "text/x-python",
   "name": "python",
   "nbconvert_exporter": "python",
   "pygments_lexer": "ipython3",
   "version": "3.6.4"
  }
 },
 "nbformat": 4,
 "nbformat_minor": 2
}
